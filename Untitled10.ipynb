{
 "cells": [
  {
   "cell_type": "code",
   "execution_count": 1,
   "id": "88c70ce8",
   "metadata": {},
   "outputs": [
    {
     "name": "stdout",
     "output_type": "stream",
     "text": [
      "2.9.1\n"
     ]
    }
   ],
   "source": [
    "import tensorflow as tf\n",
    "import seaborn as sns\n",
    "import numpy as np\n",
    "import pandas as pd\n",
    "import matplotlib.pyplot as plt\n",
    "import matplotlib.image as mping\n",
    "print(tf.__version__)"
   ]
  },
  {
   "cell_type": "code",
   "execution_count": 2,
   "id": "5a34c11f",
   "metadata": {},
   "outputs": [],
   "source": [
    "mnist=tf.keras.datasets.mnist\n",
    "(x_train,y_train),(x_test,y_test)=mnist.load_data()"
   ]
  },
  {
   "cell_type": "code",
   "execution_count": 3,
   "id": "f6f115cc",
   "metadata": {},
   "outputs": [
    {
     "data": {
      "text/plain": [
       "False"
      ]
     },
     "execution_count": 3,
     "metadata": {},
     "output_type": "execute_result"
    }
   ],
   "source": [
    "np.isnan(x_train).any()"
   ]
  },
  {
   "cell_type": "code",
   "execution_count": 4,
   "id": "bbce4504",
   "metadata": {},
   "outputs": [
    {
     "data": {
      "text/plain": [
       "False"
      ]
     },
     "execution_count": 4,
     "metadata": {},
     "output_type": "execute_result"
    }
   ],
   "source": [
    "np.isnan(x_test.any())"
   ]
  },
  {
   "cell_type": "code",
   "execution_count": 5,
   "id": "33ef2a3b",
   "metadata": {},
   "outputs": [],
   "source": [
    "input_shape=(28,28,1)\n",
    "x_train=x_train.reshape(x_train.shape[0],x_train.shape[1],x_train.shape[2],1)\n",
    "x_train=x_train/255\n",
    "x_test=x_test.reshape(x_test.shape[0],x_test.shape[1],x_test.shape[2],1)\n",
    "x_test=x_test/255"
   ]
  },
  {
   "cell_type": "code",
   "execution_count": 6,
   "id": "de7718b5",
   "metadata": {},
   "outputs": [],
   "source": [
    "y_train=tf.one_hot(y_train.astype(np.int32),depth=10)\n",
    "y_test=tf.one_hot(y_test.astype(np.int32),depth=10)"
   ]
  },
  {
   "cell_type": "code",
   "execution_count": 7,
   "id": "499229eb",
   "metadata": {},
   "outputs": [
    {
     "name": "stdout",
     "output_type": "stream",
     "text": [
      "tf.Tensor([0. 0. 0. 0. 0. 1. 0. 0. 0. 0.], shape=(10,), dtype=float32)\n"
     ]
    },
    {
     "data": {
      "image/png": "[encoded data removed]",
      "text/plain": [
       "<Figure size 432x288 with 1 Axes>"
      ]
     },
     "metadata": {
      "needs_background": "light"
     },
     "output_type": "display_data"
    }
   ],
   "source": [
    "plt.imshow(x_train[100][:,:,0])\n",
    "print(y_train[100])\n"
   ]
  },
  {
   "cell_type": "code",
   "execution_count": 8,
   "id": "23e692e6",
   "metadata": {},
   "outputs": [],
   "source": [
    "batch_size=64\n",
    "num_classes=10\n",
    "epochs=3\n"
   ]
  },
  {
   "cell_type": "code",
   "execution_count": 12,
   "id": "e6d9d2ce",
   "metadata": {},
   "outputs": [],
   "source": [
    "model=tf.keras.models.Sequential([\n",
    "    tf.keras.layers.Conv2D(32,(5,5),padding='same',activation='relu',input_shape=input_shape),\n",
    "    tf.keras.layers.Conv2D(32,(5,5),padding='same',activation='relu'),\n",
    "    tf.keras.layers.MaxPool2D(),\n",
    "    tf.keras.layers.Dropout(0.25),\n",
    "    tf.keras.layers.Conv2D(64,(3,3),padding='same',activation='relu'),\n",
    "    tf.keras.layers.Conv2D(64,(3,3),padding='same',activation='relu'),\n",
    "    tf.keras.layers.MaxPool2D(strides=(2,2)),\n",
    "    tf.keras.layers.Dropout(0.25),\n",
    "    tf.keras.layers.Flatten(),\n",
    "    tf.keras.layers.Dense(128,activation='relu'),\n",
    "    tf.keras.layers.Dropout(0.5),\n",
    "    tf.keras.layers.Dense(num_classes,activation='softmax')\n",
    "    ])\n",
    "model.compile(optimizer=tf.keras.optimizers.RMSprop(epsilon=1e-08),loss='categorical_crossentropy',metrics=['acc'])"
   ]
  },
  {
   "cell_type": "code",
   "execution_count": 13,
   "id": "215da9f7",
   "metadata": {},
   "outputs": [],
   "source": [
    "class myCallback(tf.keras.callbacks.Callback):\n",
    "    def on_epoch_end(self,epoch,logs={}):\n",
    "        if(logs.get('acc')>0.995):\n",
    "            print(\"\\nReached 99.5% accuracy no canceling training \")\n",
    "            self.model.stop_training=True\n",
    "callbacks =myCallback()"
   ]
  },
  {
   "cell_type": "code",
   "execution_count": 14,
   "id": "4397f411",
   "metadata": {},
   "outputs": [
    {
     "name": "stdout",
     "output_type": "stream",
     "text": [
      "Epoch 1/3\n",
      "844/844 [==============================] - 253s 297ms/step - loss: 0.2253 - acc: 0.9295 - val_loss: 0.0457 - val_acc: 0.9878\n",
      "Epoch 2/3\n",
      "844/844 [==============================] - 250s 296ms/step - loss: 0.0778 - acc: 0.9777 - val_loss: 0.0324 - val_acc: 0.9910\n",
      "Epoch 3/3\n",
      "844/844 [==============================] - 250s 296ms/step - loss: 0.0605 - acc: 0.9828 - val_loss: 0.0361 - val_acc: 0.9910\n"
     ]
    }
   ],
   "source": [
    "history=model.fit(x_train,y_train,\n",
    "                 batch_size=batch_size,\n",
    "                 epochs=epochs,\n",
    "                 validation_split=0.1,\n",
    "                 callbacks=[callbacks])"
   ]
  },
  {
   "cell_type": "code",
   "execution_count": 19,
   "id": "4f36b180",
   "metadata": {},
   "outputs": [
    {
     "data": {
      "image/png": "[encoded data removed]",
      "text/plain": [
       "<Figure size 432x288 with 2 Axes>"
      ]
     },
     "metadata": {
      "needs_background": "light"
     },
     "output_type": "display_data"
    }
   ],
   "source": [
    "fig, ax=plt.subplots(2,1)\n",
    "ax[0].plot(history.history['loss'],color='b',label=\"Training Loss\")\n",
    "ax[0].plot(history.history['val_loss'],color='r',label=\"Validation Loss\",axes=ax[0])\n",
    "legend=ax[0].legend(loc='best',shadow=True)\n",
    "ax[1].plot(history.history['acc'],color='b',label=\"Training Accuracy\")\n",
    "ax[1].plot(history.history['val_acc'],color='r',label=\"Validation Accuracy\")\n",
    "legend=ax[1].legend(loc='best',shadow=True)"
   ]
  },
  {
   "cell_type": "code",
   "execution_count": 20,
   "id": "e3336861",
   "metadata": {},
   "outputs": [
    {
     "name": "stdout",
     "output_type": "stream",
     "text": [
      "313/313 [==============================] - 7s 22ms/step - loss: 0.0315 - acc: 0.9908\n"
     ]
    }
   ],
   "source": [
    "test_loss, test_acc =model.evaluate(x_test, y_test)"
   ]
  },
  {
   "cell_type": "code",
   "execution_count": 23,
   "id": "7c5cccd9",
   "metadata": {},
   "outputs": [
    {
     "name": "stdout",
     "output_type": "stream",
     "text": [
      "313/313 [==============================] - 7s 22ms/step\n"
     ]
    }
   ],
   "source": [
    "Y_pred=model.predict(x_test)\n",
    "Y_pred_classes=np.argmax(Y_pred,axis=1)\n",
    "Y_true=np.argmax(y_test,axis=1)\n",
    "confusion_mtx=tf.math.confusion_matrix(Y_true,Y_pred_classes)"
   ]
  },
  {
   "cell_type": "code",
   "execution_count": 24,
   "id": "3247b987",
   "metadata": {},
   "outputs": [
    {
     "data": {
      "text/plain": [
       "<AxesSubplot:>"
      ]
     },
     "execution_count": 24,
     "metadata": {},
     "output_type": "execute_result"
    },
    {
     "data": {
      "image/png": "[encoded data removed]",
      "text/plain": [
       "<Figure size 720x576 with 2 Axes>"
      ]
     },
     "metadata": {
      "needs_background": "light"
     },
     "output_type": "display_data"
    }
   ],
   "source": [
    "plt.figure(figsize=(10,8))\n",
    "sns.heatmap(confusion_mtx,annot=True,fmt='g')"
   ]
  }
 ],
 "metadata": {
  "kernelspec": {
   "display_name": "Python 3 (ipykernel)",
   "language": "python",
   "name": "python3"
  },
  "language_info": {
   "codemirror_mode": {
    "name": "ipython",
    "version": 3
   },
   "file_extension": ".py",
   "mimetype": "text/x-python",
   "name": "python",
   "nbconvert_exporter": "python",
   "pygments_lexer": "ipython3",
   "version": "3.10.5"
  }
 },
 "nbformat": 4,
 "nbformat_minor": 5
}
