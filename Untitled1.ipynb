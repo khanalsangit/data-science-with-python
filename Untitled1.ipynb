{
 "cells": [
  {
   "cell_type": "code",
   "execution_count": 1,
   "id": "a6f0fee1",
   "metadata": {},
   "outputs": [
    {
     "name": "stdout",
     "output_type": "stream",
     "text": [
      "i am going to love python\n"
     ]
    }
   ],
   "source": [
    "print(\"i am going to love python\")"
   ]
  },
  {
   "cell_type": "code",
   "execution_count": 1,
   "id": "4a5a9547",
   "metadata": {},
   "outputs": [
    {
     "name": "stdout",
     "output_type": "stream",
     "text": [
      "4\n"
     ]
    }
   ],
   "source": [
    "list=[\"abc\",\"mango\",\"cherry\",4]\n",
    "print(list[3])"
   ]
  },
  {
   "cell_type": "code",
   "execution_count": 2,
   "id": "613f85a9",
   "metadata": {},
   "outputs": [
    {
     "name": "stdout",
     "output_type": "stream",
     "text": [
      "4\n"
     ]
    }
   ],
   "source": [
    "print(len(list))"
   ]
  },
  {
   "cell_type": "code",
   "execution_count": 3,
   "id": "52b9d285",
   "metadata": {},
   "outputs": [
    {
     "name": "stdout",
     "output_type": "stream",
     "text": [
      "4\n"
     ]
    }
   ],
   "source": [
    "print(list[-1])"
   ]
  },
  {
   "cell_type": "code",
   "execution_count": 4,
   "id": "c80bc814",
   "metadata": {},
   "outputs": [
    {
     "name": "stdout",
     "output_type": "stream",
     "text": [
      "['abc', 'mango', 'cherry']\n"
     ]
    }
   ],
   "source": [
    "print(list[0:3])"
   ]
  },
  {
   "cell_type": "code",
   "execution_count": 5,
   "id": "744c8b01",
   "metadata": {},
   "outputs": [
    {
     "name": "stdout",
     "output_type": "stream",
     "text": [
      "[4, 'cherry', 'mango', 'abc']\n"
     ]
    }
   ],
   "source": [
    "print(list[::-1])"
   ]
  },
  {
   "cell_type": "code",
   "execution_count": 6,
   "id": "13957149",
   "metadata": {},
   "outputs": [
    {
     "name": "stdout",
     "output_type": "stream",
     "text": [
      "['abc', 'mango', 'cherry', 'orange']\n"
     ]
    }
   ],
   "source": [
    "list[3]=\"orange\"\n",
    "print(list)"
   ]
  },
  {
   "cell_type": "code",
   "execution_count": 8,
   "id": "eb340b79",
   "metadata": {},
   "outputs": [
    {
     "name": "stdout",
     "output_type": "stream",
     "text": [
      "[6, 'mango', 'cherry', 'orange']\n"
     ]
    }
   ],
   "source": [
    "list[0]=6\n",
    "print(list)"
   ]
  },
  {
   "cell_type": "code",
   "execution_count": 9,
   "id": "ae0dc71f",
   "metadata": {},
   "outputs": [
    {
     "name": "stdout",
     "output_type": "stream",
     "text": [
      "[6, 'mango', 'cherry', 'orange', 'ram']\n"
     ]
    }
   ],
   "source": [
    "list.append(\"ram\")\n",
    "print(list)"
   ]
  },
  {
   "cell_type": "code",
   "execution_count": 10,
   "id": "5c9c5052",
   "metadata": {},
   "outputs": [
    {
     "name": "stdout",
     "output_type": "stream",
     "text": [
      "[6, 'mango', 'cherry', 'orange', 'ram', 7]\n"
     ]
    }
   ],
   "source": [
    "list.append(7)\n",
    "print(list)"
   ]
  },
  {
   "cell_type": "code",
   "execution_count": 11,
   "id": "0539abe8",
   "metadata": {},
   "outputs": [
    {
     "name": "stdout",
     "output_type": "stream",
     "text": [
      "[6, 'mango', 'cherry', 'orange', 'ram']\n"
     ]
    }
   ],
   "source": [
    "list.remove(7)\n",
    "print(list)"
   ]
  },
  {
   "cell_type": "code",
   "execution_count": 12,
   "id": "f2d96c08",
   "metadata": {},
   "outputs": [
    {
     "name": "stdout",
     "output_type": "stream",
     "text": [
      "['mango', 'cherry', 'orange', 'ram']\n"
     ]
    }
   ],
   "source": [
    "list.remove(6)\n",
    "print(list)"
   ]
  },
  {
   "cell_type": "code",
   "execution_count": 13,
   "id": "16839c38",
   "metadata": {},
   "outputs": [
    {
     "name": "stdout",
     "output_type": "stream",
     "text": [
      "['mango', 'cherry', 'orange']\n"
     ]
    }
   ],
   "source": [
    "list.remove(list[3])\n",
    "print(list)"
   ]
  },
  {
   "cell_type": "code",
   "execution_count": 14,
   "id": "787c00e2",
   "metadata": {},
   "outputs": [
    {
     "name": "stdout",
     "output_type": "stream",
     "text": [
      "['mango', 'cherry']\n"
     ]
    }
   ],
   "source": [
    "list.pop()\n",
    "print(list)"
   ]
  },
  {
   "cell_type": "code",
   "execution_count": 16,
   "id": "c3080b34",
   "metadata": {},
   "outputs": [
    {
     "name": "stdout",
     "output_type": "stream",
     "text": [
      "['mango', 'cherry', 'ram']\n"
     ]
    }
   ],
   "source": [
    "list.append(\"ram\")\n",
    "print(list)"
   ]
  },
  {
   "cell_type": "code",
   "execution_count": 18,
   "id": "d41e402b",
   "metadata": {},
   "outputs": [
    {
     "name": "stdout",
     "output_type": "stream",
     "text": [
      "['mango', 'cherry']\n"
     ]
    }
   ],
   "source": [
    "list.pop()\n",
    "print(list)"
   ]
  },
  {
   "cell_type": "code",
   "execution_count": 30,
   "id": "805303c0",
   "metadata": {},
   "outputs": [
    {
     "name": "stdout",
     "output_type": "stream",
     "text": [
      "['mango', 'cherry', 'chet', 'girl', 'chet']\n"
     ]
    }
   ],
   "source": [
    "list.append(\"chet\")\n",
    "print(list)"
   ]
  },
  {
   "cell_type": "code",
   "execution_count": 21,
   "id": "6e9d5b85",
   "metadata": {},
   "outputs": [],
   "source": [
    "list.append(\"girl\")"
   ]
  },
  {
   "cell_type": "code",
   "execution_count": 22,
   "id": "622919ed",
   "metadata": {},
   "outputs": [
    {
     "name": "stdout",
     "output_type": "stream",
     "text": [
      "['mango', 'cherry', 'chet', 'girl']\n"
     ]
    }
   ],
   "source": [
    "print(list)"
   ]
  },
  {
   "cell_type": "code",
   "execution_count": 23,
   "id": "1e59e07b",
   "metadata": {},
   "outputs": [],
   "source": [
    "tuple=('apple',\"time\")"
   ]
  },
  {
   "cell_type": "code",
   "execution_count": 24,
   "id": "a55e3ab1",
   "metadata": {},
   "outputs": [
    {
     "name": "stdout",
     "output_type": "stream",
     "text": [
      "('apple', 'time')\n"
     ]
    }
   ],
   "source": [
    "print(tuple)"
   ]
  },
  {
   "cell_type": "code",
   "execution_count": 26,
   "id": "30d48604",
   "metadata": {},
   "outputs": [
    {
     "name": "stdout",
     "output_type": "stream",
     "text": [
      "time\n"
     ]
    }
   ],
   "source": [
    "\n",
    "print(tuple[1])"
   ]
  },
  {
   "cell_type": "code",
   "execution_count": 31,
   "id": "e3b8e71f",
   "metadata": {},
   "outputs": [
    {
     "name": "stdout",
     "output_type": "stream",
     "text": [
      "<class 'set'>\n",
      "{'ram', 6, 'apple'}\n"
     ]
    }
   ],
   "source": [
    "set={\"apple\",\"ram\",6}\n",
    "print(type(set))\n",
    "print(set)"
   ]
  },
  {
   "cell_type": "code",
   "execution_count": 32,
   "id": "a208d2eb",
   "metadata": {},
   "outputs": [],
   "source": [
    "set.add(5)"
   ]
  },
  {
   "cell_type": "code",
   "execution_count": 33,
   "id": "25acdfce",
   "metadata": {},
   "outputs": [
    {
     "name": "stdout",
     "output_type": "stream",
     "text": [
      "{'ram', 5, 6, 'apple'}\n"
     ]
    }
   ],
   "source": [
    "print(set)"
   ]
  },
  {
   "cell_type": "code",
   "execution_count": 34,
   "id": "24953f64",
   "metadata": {},
   "outputs": [
    {
     "name": "stdout",
     "output_type": "stream",
     "text": [
      "{'ram', 5, 6, 'apple'}\n"
     ]
    }
   ],
   "source": [
    "set.add(\"apple\")\n",
    "print(set)"
   ]
  },
  {
   "cell_type": "code",
   "execution_count": 35,
   "id": "81b79ffe",
   "metadata": {},
   "outputs": [
    {
     "data": {
      "text/plain": [
       "{5, 6, 'apple', 'ram'}"
      ]
     },
     "execution_count": 35,
     "metadata": {},
     "output_type": "execute_result"
    }
   ],
   "source": [
    "set"
   ]
  },
  {
   "cell_type": "code",
   "execution_count": 36,
   "id": "4fbd07f3",
   "metadata": {},
   "outputs": [],
   "source": [
    "sett={'shyam',\"tokyo\"}\n",
    "set.update(sett)"
   ]
  },
  {
   "cell_type": "code",
   "execution_count": 37,
   "id": "d3caf3d5",
   "metadata": {},
   "outputs": [
    {
     "name": "stdout",
     "output_type": "stream",
     "text": [
      "{'shyam', 5, 6, 'apple', 'ram', 'tokyo'}\n"
     ]
    }
   ],
   "source": [
    "print(set)"
   ]
  },
  {
   "cell_type": "code",
   "execution_count": 39,
   "id": "f615577f",
   "metadata": {},
   "outputs": [],
   "source": [
    "set.remove(\"ram\")"
   ]
  },
  {
   "cell_type": "code",
   "execution_count": 40,
   "id": "9b7f24a2",
   "metadata": {},
   "outputs": [
    {
     "data": {
      "text/plain": [
       "{5, 6, 'apple', 'shyam', 'tokyo'}"
      ]
     },
     "execution_count": 40,
     "metadata": {},
     "output_type": "execute_result"
    }
   ],
   "source": [
    "set"
   ]
  },
  {
   "cell_type": "code",
   "execution_count": 43,
   "id": "2184e2d3",
   "metadata": {},
   "outputs": [
    {
     "name": "stdout",
     "output_type": "stream",
     "text": [
      "{'ram': 'boy', 'sita': 'girl'}\n"
     ]
    }
   ],
   "source": [
    "dict={\"ram\":\"boy\",\"sita\":\"girl\"}\n",
    "print(dict)"
   ]
  },
  {
   "cell_type": "code",
   "execution_count": 47,
   "id": "e4c6ab7d",
   "metadata": {},
   "outputs": [
    {
     "name": "stdout",
     "output_type": "stream",
     "text": [
      "boy\n"
     ]
    }
   ],
   "source": [
    "print(dict[\"ram\"])"
   ]
  },
  {
   "cell_type": "code",
   "execution_count": 48,
   "id": "05c2ba39",
   "metadata": {},
   "outputs": [
    {
     "name": "stdout",
     "output_type": "stream",
     "text": [
      "{'ram': 'boy', 'year': '2022'}\n"
     ]
    }
   ],
   "source": [
    "tdict={\"ram\":\"boy\",\"year\":\"2030\",\"year\":\"2022\"}\n",
    "print(tdict)"
   ]
  },
  {
   "cell_type": "code",
   "execution_count": 49,
   "id": "a17b1c4f",
   "metadata": {},
   "outputs": [
    {
     "name": "stdout",
     "output_type": "stream",
     "text": [
      "{'ram': 'girl', 'year': '2022'}\n"
     ]
    }
   ],
   "source": [
    "tdict[\"ram\"]=\"girl\"\n",
    "print(tdict)"
   ]
  },
  {
   "cell_type": "code",
   "execution_count": 50,
   "id": "1646a8f5",
   "metadata": {},
   "outputs": [
    {
     "name": "stdout",
     "output_type": "stream",
     "text": [
      "{'ram': 'girl', 'year': '2022', 'sita': 'boy'}\n"
     ]
    }
   ],
   "source": [
    "tdict[\"sita\"]=\"boy\"\n",
    "print(tdict)"
   ]
  },
  {
   "cell_type": "code",
   "execution_count": 51,
   "id": "ff8cd756",
   "metadata": {},
   "outputs": [
    {
     "name": "stdout",
     "output_type": "stream",
     "text": [
      "{'ram': 'girl', 'year': '2022', 'sita': 'boy', 'gender': 'male'}\n"
     ]
    }
   ],
   "source": [
    "tdict[\"gender\"]=\"male\"\n",
    "print(tdict)"
   ]
  },
  {
   "cell_type": "code",
   "execution_count": 52,
   "id": "aba16e25",
   "metadata": {},
   "outputs": [
    {
     "name": "stdout",
     "output_type": "stream",
     "text": [
      "{'dream': 'sapana', 'root': 'jara'}\n"
     ]
    }
   ],
   "source": [
    "dictionary={\"dream\":\"sapana\",\"root\":\"jara\"}\n",
    "print(dictionary)"
   ]
  },
  {
   "cell_type": "code",
   "execution_count": 53,
   "id": "6e21d686",
   "metadata": {},
   "outputs": [
    {
     "name": "stdout",
     "output_type": "stream",
     "text": [
      "sapana\n"
     ]
    }
   ],
   "source": [
    "print(dictionary[\"dream\"])"
   ]
  },
  {
   "cell_type": "code",
   "execution_count": 1,
   "id": "7245e129",
   "metadata": {},
   "outputs": [
    {
     "name": "stdout",
     "output_type": "stream",
     "text": [
      "1\n",
      "2\n",
      "3\n",
      "4\n",
      "5\n",
      "67\n"
     ]
    }
   ],
   "source": [
    "list=[1,2,3,4,5,67]\n",
    "for u in list:\n",
    "    print(u)"
   ]
  },
  {
   "cell_type": "code",
   "execution_count": 3,
   "id": "4bb9966d",
   "metadata": {},
   "outputs": [
    {
     "name": "stdout",
     "output_type": "stream",
     "text": [
      "3\n",
      "4\n",
      "5\n",
      "6\n",
      "7\n",
      "69\n"
     ]
    }
   ],
   "source": [
    "for u in list:\n",
    "    print(u+2)"
   ]
  },
  {
   "cell_type": "code",
   "execution_count": 20,
   "id": "7f2ef48f",
   "metadata": {},
   "outputs": [
    {
     "name": "stdout",
     "output_type": "stream",
     "text": [
      "[4, 3, 4]\n",
      "[4, 6, 4]\n",
      "[4, 6, 8]\n"
     ]
    }
   ],
   "source": [
    "for i in range (0,len(list)):\n",
    "    list[i]=list[i]*2\n",
    "    print(list)"
   ]
  },
  {
   "cell_type": "code",
   "execution_count": 6,
   "id": "8f144d3d",
   "metadata": {},
   "outputs": [
    {
     "name": "stdout",
     "output_type": "stream",
     "text": [
      "0\n",
      "1\n",
      "2\n",
      "3\n",
      "4\n",
      "5\n",
      "6\n",
      "7\n",
      "8\n",
      "9\n"
     ]
    }
   ],
   "source": [
    "for i in range(0,10):\n",
    "    print(i)"
   ]
  },
  {
   "cell_type": "code",
   "execution_count": 9,
   "id": "ea220c89",
   "metadata": {},
   "outputs": [
    {
     "name": "stdout",
     "output_type": "stream",
     "text": [
      "found a\n",
      "what\n",
      "what\n",
      "what\n",
      "what\n",
      "what\n"
     ]
    }
   ],
   "source": [
    "for i in range (0,len(list)):\n",
    "    if list[i]==8:\n",
    "        print(\"found a\")\n",
    "    else:\n",
    "        print(\"what\")"
   ]
  },
  {
   "cell_type": "code",
   "execution_count": 14,
   "id": "5a890cc2",
   "metadata": {},
   "outputs": [
    {
     "name": "stdout",
     "output_type": "stream",
     "text": [
      "hello world\n"
     ]
    }
   ],
   "source": [
    "print(\"hello world\")\n",
    "    "
   ]
  },
  {
   "cell_type": "code",
   "execution_count": 17,
   "id": "30259677",
   "metadata": {},
   "outputs": [
    {
     "name": "stdout",
     "output_type": "stream",
     "text": [
      "[4, 5, 6]\n"
     ]
    }
   ],
   "source": [
    "list=[2,3,4]\n",
    "alist=[item+2 for item in list]\n",
    "print(alist)"
   ]
  },
  {
   "cell_type": "code",
   "execution_count": 18,
   "id": "1558e9c6",
   "metadata": {},
   "outputs": [
    {
     "data": {
      "text/plain": [
       "[4, 5, 6]"
      ]
     },
     "execution_count": 18,
     "metadata": {},
     "output_type": "execute_result"
    }
   ],
   "source": [
    "alist"
   ]
  },
  {
   "cell_type": "code",
   "execution_count": 19,
   "id": "89242980",
   "metadata": {},
   "outputs": [
    {
     "name": "stdout",
     "output_type": "stream",
     "text": [
      "[6, 7, 8]\n"
     ]
    }
   ],
   "source": [
    "clist=[it+2 for it in alist]\n",
    "print(clist)"
   ]
  },
  {
   "cell_type": "code",
   "execution_count": 21,
   "id": "08d00805",
   "metadata": {},
   "outputs": [
    {
     "name": "stdout",
     "output_type": "stream",
     "text": [
      "[12, 7, 8]\n",
      "[12, 14, 8]\n",
      "[12, 14, 16]\n"
     ]
    }
   ],
   "source": [
    "for i in range(0,len(clist)):\n",
    "    clist[i]=clist[i]*2\n",
    "    print(clist)"
   ]
  },
  {
   "cell_type": "code",
   "execution_count": null,
   "id": "d94c6e1b",
   "metadata": {},
   "outputs": [],
   "source": []
  }
 ],
 "metadata": {
  "kernelspec": {
   "display_name": "Python 3 (ipykernel)",
   "language": "python",
   "name": "python3"
  },
  "language_info": {
   "codemirror_mode": {
    "name": "ipython",
    "version": 3
   },
   "file_extension": ".py",
   "mimetype": "text/x-python",
   "name": "python",
   "nbconvert_exporter": "python",
   "pygments_lexer": "ipython3",
   "version": "3.10.5"
  }
 },
 "nbformat": 4,
 "nbformat_minor": 5
}
